{
 "cells": [
  {
   "cell_type": "code",
   "execution_count": 2,
   "id": "clean-polymer",
   "metadata": {},
   "outputs": [],
   "source": [
    "from tkinter import *\n",
    "def btnClick(numbers):\n",
    "    global operator\n",
    "    operator=operator+str(numbers)\n",
    "    text_Input.set(operator)\n",
    "def btnClearDisplay():\n",
    "    global operator\n",
    "    operator=\"\"\n",
    "    text_Input.set(\"\")\n",
    "def btnEqualsInput():\n",
    "    global operator\n",
    "    ans=str(eval(operator))\n",
    "    text_Input.set(ans)\n",
    "    operator=\"\"\n",
    "cal=Tk()\n",
    "cal.title(\"Calculator\")\n",
    "operator=\"\"\n",
    "text_Input=StringVar()\n",
    "txtDisplay=Entry(cal,font=('arial',20,'bold'),textvariable=text_Input,bd=30,insertwidth=4,bg=\"light green\",).grid(columnspan=4)\n",
    "btn7=Button(cal,padx=16,bd=8,fg=\"black\",font=('arial',20,'bold'),text=\"7\",command=lambda:btnClick(\"7\")).grid(row=1,column=0)\n",
    "\n",
    "btn8=Button(cal,padx=16,bd=8,fg=\"black\",font=('arial',20,'bold'),text=\"8\",command=lambda:btnClick(\"8\")).grid(row=1,column=1)\n",
    "\n",
    "btn9=Button(cal,padx=16,bd=8,fg=\"black\",font=('arial',20,'bold'),text=\"9\",command=lambda:btnClick(\"9\")).grid(row=1,column=2)\n",
    "\n",
    "addition=Button(cal,padx=16,bd=8,fg=\"black\",font=('arial',20,'bold'),text=\"+\",command=lambda:btnClick(\"+\")).grid(row=1,column=3)\n",
    "\n",
    "btn4=Button(cal,padx=16,bd=8,fg=\"black\",font=('arial',20,'bold'),text=\"4\",command=lambda:btnClick(\"4\")).grid(row=2,column=0)\n",
    "\n",
    "btn5=Button(cal,padx=16,bd=8,fg=\"red\",bg=\"blue\",font=('arial',20,'bold'),text=\"5\",command=lambda:btnClick(\"5\")).grid(row=2,column=1)\n",
    "\n",
    "btn6=Button(cal,padx=16,bd=8,fg=\"yellow\",bg=\"green\",font=('arial',20,'bold'),text=\"6\",command=lambda:btnClick(\"6\")).grid(row=2,column=2)\n",
    "\n",
    "subraction=Button(cal,padx=16,bd=8,fg=\"black\",font=('arial',20,'bold'),text=\"-\",command=lambda:btnClick(\"-\")).grid(row=2,column=3)\n",
    "\n",
    "btn1=Button(cal,padx=16,bd=8,fg=\"white\",bg=\"black\",font=('arial',20,'bold'),text=\"1\",command=lambda:btnClick(\"1\")).grid(row=3,column=0)\n",
    "\n",
    "btn2=Button(cal,padx=16,bd=8,fg=\"purple\",bg=\"pink\",font=('arial',20,'bold'),text=\"2\",command=lambda:btnClick(\"2\")).grid(row=3,column=1)\n",
    "\n",
    "btn3=Button(cal,padx=16,bd=8,fg=\"black\",font=('arial',20,'bold'),text=\"3\",command=lambda:btnClick(\"3\")).grid(row=3,column=2)\n",
    "\n",
    "multiplication=Button(cal,padx=16,bd=8,fg=\"black\",font=('arial',20,'bold'),text=\"x\",command=lambda:btnClick(\"*\")).grid(row=3,column=3)\n",
    "\n",
    "btn0=Button(cal,padx=16,bd=8,fg=\"black\",font=('arial',20,'bold'),text=\"0\",command=lambda:btnClick(\"0\")).grid(row=4,column=0)\n",
    "\n",
    "clear=Button(cal,padx=16,bd=8,fg=\"black\",font=('arial',20,'bold'),text=\"C\",command=btnClearDisplay).grid(row=4,column=1)\n",
    "\n",
    "equals=Button(cal,padx=16,bd=8,fg=\"black\",font=('arial',20,'bold'),text=\"=\",command=btnEqualsInput).grid(row=4,column=2)\n",
    "\n",
    "division=Button(cal,padx=16,bd=8,fg=\"black\",font=('arial',20,'bold'),text=\"/\",command=lambda:btnClick(\"/\")).grid(row=4,column=3)\n",
    "\n",
    "cal.mainloop()"
   ]
  },
  {
   "cell_type": "code",
   "execution_count": null,
   "id": "further-cleanup",
   "metadata": {},
   "outputs": [],
   "source": []
  },
  {
   "cell_type": "code",
   "execution_count": null,
   "id": "affiliated-renaissance",
   "metadata": {},
   "outputs": [],
   "source": []
  }
 ],
 "metadata": {
  "kernelspec": {
   "display_name": "Python 3",
   "language": "python",
   "name": "python3"
  },
  "language_info": {
   "codemirror_mode": {
    "name": "ipython",
    "version": 3
   },
   "file_extension": ".py",
   "mimetype": "text/x-python",
   "name": "python",
   "nbconvert_exporter": "python",
   "pygments_lexer": "ipython3",
   "version": "3.8.7"
  }
 },
 "nbformat": 4,
 "nbformat_minor": 5
}
